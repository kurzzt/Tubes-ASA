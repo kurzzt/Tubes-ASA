{
 "cells": [
  {
   "attachments": {},
   "cell_type": "markdown",
   "metadata": {},
   "source": [
    "# Data"
   ]
  },
  {
   "cell_type": "code",
   "execution_count": null,
   "metadata": {},
   "outputs": [],
   "source": [
    "adjacency_matrix = [\n",
    "                    [0, 3, 0, 70.2, 0, 0, 0, 0, 0, 0, 0, 0, 0],\n",
    "\t\t\t\t\t[3, 0, 8.2, 0, 0, 0, 0, 0, 0, 0, 0, 0, 0],\n",
    "\t\t\t\t\t[0, 8.2, 0, 75, 69.5, 151, 0, 0, 0, 0, 0, 0, 0],\n",
    "\t\t\t\t\t[70.2, 0, 75, 0, 0, 0, 0, 0, 0, 0, 0, 0, 0],\n",
    "\t\t\t\t\t[0, 0, 69.5, 0, 0, 86, 143, 0, 0, 0, 0, 0, 0],\n",
    "\t\t\t\t\t[0, 0, 151, 0, 86, 0, 135, 0, 285, 0, 0, 0, 0],\n",
    "\t\t\t\t\t[0, 0, 0, 0, 143, 135, 0, 130, 0, 244, 0, 0, 0],\n",
    "\t\t\t\t\t[0, 0, 0, 0, 0, 0, 130, 0, 32.5, 0, 0, 0, 0],\n",
    "\t\t\t\t\t[0, 0, 0, 0, 0, 285, 0, 32.5, 0, 0, 195, 0, 0],\n",
    "\t\t\t\t\t[0, 0, 0, 0, 0, 0, 244, 0, 0, 0, 116, 321, 0],\n",
    "\t\t\t\t\t[0, 0, 0, 0, 0, 0, 0, 0, 195, 116, 0, 0, 0],\n",
    "\t\t\t\t\t[0, 0, 0, 0, 0, 0, 0, 0, 0, 0, 321, 0, 318],\n",
    "\t\t\t\t\t[0, 0, 0, 0, 0, 0, 0, 0, 0, 0, 0, 318, 0]\n",
    "\t\t\t\t]\n",
    "\n",
    "names = [\n",
    "    'Jakarta',\n",
    "    'Pademangan',\n",
    "    'Tanjung Priok',\n",
    "    'Bogor',\n",
    "    'Klari',\n",
    "    'Bandung',\n",
    "    'Arjawinangun',\n",
    "    'Kretek',\n",
    "    'Purwokerto',\n",
    "    'Poncol',\n",
    "    'Brambanan',\n",
    "    'Kalimas',\n",
    "    'Banyuwangi'\n",
    "]"
   ]
  },
  {
   "attachments": {},
   "cell_type": "markdown",
   "metadata": {},
   "source": [
    "- menampilan step by step dengan algo dijkstra ataupun a*"
   ]
  },
  {
   "attachments": {},
   "cell_type": "markdown",
   "metadata": {},
   "source": [
    "# Kode tambahan\n",
    "kode dibawah ini diperlukan untuk mengeluarkan output hasil kompilasi"
   ]
  },
  {
   "cell_type": "code",
   "execution_count": null,
   "metadata": {},
   "outputs": [],
   "source": [
    "def viewSolution(start_vertex, end_vertex, distances, parents):\n",
    "    vertexLen = len(distances)\n",
    "    print(\"Vertex\\t Distance\\tPath\")\n",
    "\n",
    "    for vertexIdx in range(vertexLen):\n",
    "        if vertexIdx == end_vertex:\n",
    "            print(\"\\n\", start_vertex, \"->\", vertexIdx, \"\\t\\t\", distances[vertexIdx], \"\\t\\t\", end=\"\")\n",
    "            print_path(vertexIdx, parents)\n",
    "\n",
    "def viewSolution2(start_vertex, end_vertex, distances, parents):\n",
    "    vertexLen = len(distances)\n",
    "    print(\"Jarak terpendek dari node\", start_vertex, \"ke node\", end_vertex, \"adalah:\", distances[end_vertex])\n",
    "    print(\"Path:\")\n",
    "    print_path(end_vertex, parents)\n",
    "        \n",
    "def print_path(current_vertex, parents):\n",
    "\tif current_vertex == NO_PARENT:\n",
    "\t\treturn\n",
    "\tprint_path(parents[current_vertex], parents) #rekursifly\n",
    "\tprint(current_vertex, end=\" \")\n",
    "        \n",
    "def show_node(names, adjacency_matrix):\n",
    "    for i, name in enumerate(names):\n",
    "        print(f'[{i}] {name}')\n",
    "    # print(\"\\n\")"
   ]
  },
  {
   "attachments": {},
   "cell_type": "markdown",
   "metadata": {},
   "source": [
    "# Kode untuk Algoritma Dijkstra"
   ]
  },
  {
   "cell_type": "code",
   "execution_count": null,
   "metadata": {},
   "outputs": [],
   "source": [
    "import sys\n",
    "\n",
    "NO_PARENT = -1\n",
    "def dijkstra(adjacency_matrix, start_vertex, end_vertex):\n",
    "    vertexLen = len(adjacency_matrix[0]) #jumlah vertex\n",
    "    \n",
    "    # Menyimpan jarak terpendek dari start_vertex ke i\n",
    "    # Added akan True jika vertex i termasuk pada pohon jarak terpendek\n",
    "    # atau jarak terpendek start ke i selesai\n",
    "    shortest_distances = [sys.maxsize] * vertexLen\n",
    "    added = [False] * vertexLen\n",
    "\n",
    "    # inisialisasi semua jarak ke infinite dan kondisi ke false\n",
    "    for vertexIdx in range(vertexLen):\n",
    "        shortest_distances[vertexIdx] = sys.maxsize\n",
    "        added[vertexIdx] = False\n",
    "\n",
    "    shortest_distances[start_vertex] = 0 # jarak ke diri sendiri pasti 0\n",
    "    parents = [-1] * vertexLen # untuk menyimpan pohon jarak terpendek\n",
    "    parents[start_vertex] = NO_PARENT\n",
    "\n",
    "    # Algoritma Dijkstra\n",
    "    for i in range(1, vertexLen):\n",
    "        nearest_vertex = -1\n",
    "        shortest_distance = sys.maxsize\n",
    "        for vertexIdx in range(vertexLen):\n",
    "            if not added[vertexIdx] and shortest_distances[vertexIdx] < shortest_distance:\n",
    "                nearest_vertex = vertexIdx\n",
    "                shortest_distance = shortest_distances[vertexIdx]\n",
    "        added[nearest_vertex] = True\n",
    "        for vertexIdx in range(vertexLen):\n",
    "            edge_distance = adjacency_matrix[nearest_vertex][vertexIdx]\n",
    "            if edge_distance > 0 and shortest_distance + edge_distance < shortest_distances[vertexIdx]:\n",
    "                parents[vertexIdx] = nearest_vertex\n",
    "                shortest_distances[vertexIdx] = shortest_distance + edge_distance\n",
    "    \n",
    "    # Print Hasil\n",
    "    viewSolution2(start_vertex, end_vertex, shortest_distances, parents)"
   ]
  },
  {
   "attachments": {},
   "cell_type": "markdown",
   "metadata": {},
   "source": [
    "# Kode untuk Algoritma A*"
   ]
  },
  {
   "cell_type": "code",
   "execution_count": null,
   "metadata": {},
   "outputs": [],
   "source": [
    "import heapq\n",
    "\n",
    "def a_star(adjacency_matrix, start_node, target_node):\n",
    "    # Membuat kamus untuk menyimpan jarak terkini dan estimasi total dari start_node ke semua node lainnya\n",
    "    distances = {node: float('inf') for node in range(len(adjacency_matrix))}\n",
    "    distances[start_node] = 0\n",
    "    \n",
    "    # Membuat kamus untuk menyimpan node yang dikunjungi sejauh ini dan kamus untuk menyimpan parent dari setiap node\n",
    "    visited = set()\n",
    "    parents = {start_node: None}\n",
    "    \n",
    "    # Membuat priority queue menggunakan min-heap untuk memilih node dengan estimasi total terkecil\n",
    "    queue = [(0, start_node)]\n",
    "    \n",
    "    while queue:\n",
    "        current_distance, current_node = heapq.heappop(queue)\n",
    "        \n",
    "        if current_node == target_node:\n",
    "            # Jika target_node telah dicapai, mengembalikan jarak terkini dan path ke target_node\n",
    "            path = []\n",
    "            while current_node is not None:\n",
    "                path.append(current_node)\n",
    "                current_node = parents[current_node]\n",
    "            path.reverse()\n",
    "            return distances[target_node], path\n",
    "        \n",
    "        if current_node in visited:\n",
    "            # Jika node telah dikunjungi sebelumnya, lanjutkan ke iterasi berikutnya\n",
    "            continue\n",
    "        \n",
    "        visited.add(current_node)\n",
    "        \n",
    "        # Mengupdate jarak terkini ke tetangga-tetangga yang terhubung dengan current_node\n",
    "        for neighbor_node, distance in enumerate(adjacency_matrix[current_node]):\n",
    "            if distance != 0:\n",
    "                new_distance = distances[current_node] + distance\n",
    "                if new_distance < distances[neighbor_node]:\n",
    "                    distances[neighbor_node] = new_distance\n",
    "                    parents[neighbor_node] = current_node\n",
    "                    heapq.heappush(queue, (new_distance, neighbor_node))\n",
    "\n",
    "    # Jika tidak ada path yang tersedia dari start_node ke target_node, mengembalikan None\n",
    "    return None"
   ]
  },
  {
   "attachments": {},
   "cell_type": "markdown",
   "metadata": {},
   "source": [
    "# Program utama\n",
    "program untuk menjalankan kode algoritma yang telah dibuat dan data yang diperoleh"
   ]
  },
  {
   "cell_type": "code",
   "execution_count": null,
   "metadata": {},
   "outputs": [],
   "source": [
    "show_node(names, adjacency_matrix)\n",
    "awal = int(input(\"Dari mana paket berasal : \"))\n",
    "tujuan = int(input(\"Mau dikirim kemana paket : \"))\n",
    "while(awal in range(1, 13) and tujuan in range(1, 13)):\n",
    "    print(\"\\n\\nHasil komputasi menggunakan Algoritma Dijkstra\")\n",
    "    dijkstra(adjacency_matrix, awal, tujuan)\n",
    "\n",
    "    distance, path = a_star(adjacency_matrix, awal, tujuan)\n",
    "    print(\"\\n\\nHasil komputasi menggunakan Algoritma A*\")\n",
    "    print(\"Jarak terpendek dari node\", awal, \"ke node\", tujuan, \"adalah:\", distance)\n",
    "    print(\"Path:\", path, end=\"\")\n",
    "\n",
    "    awal = int(input(\"Dari mana paket berasal : \"))\n",
    "    tujuan = int(input(\"Mau dikirim kemana paket : \"))"
   ]
  }
 ],
 "metadata": {
  "kernelspec": {
   "display_name": "Python 3",
   "language": "python",
   "name": "python3"
  },
  "language_info": {
   "codemirror_mode": {
    "name": "ipython",
    "version": 3
   },
   "file_extension": ".py",
   "mimetype": "text/x-python",
   "name": "python",
   "nbconvert_exporter": "python",
   "pygments_lexer": "ipython3",
   "version": "3.11.4"
  },
  "orig_nbformat": 4
 },
 "nbformat": 4,
 "nbformat_minor": 2
}
